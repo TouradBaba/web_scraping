{
 "cells": [
  {
   "cell_type": "code",
   "execution_count": 1,
   "id": "be47be94-9be7-4f2e-857f-8c9cc00651ca",
   "metadata": {
    "jupyter": {
     "is_executing": true
    }
   },
   "outputs": [
    {
     "name": "stdout",
     "output_type": "stream",
     "text": [
      "Data successfully saved to URLs.csv\n"
     ]
    }
   ],
   "source": [
    "import csv\n",
    "\n",
    "# List of URLs and their descriptions\n",
    "data = [\n",
    "    {\n",
    "        \"url\": \"https://finance.yahoo.com/quote/AAPL?p=AAPL\",\n",
    "        \"description\": \"Apple Inc. stock overview\"\n",
    "    },\n",
    "    {\n",
    "        \"url\": \"https://finance.yahoo.com/quote/MSFT?p=MSFT\",\n",
    "        \"description\": \"Microsoft Corporation stock overview\"\n",
    "    },\n",
    "    {\n",
    "        \"url\": \"https://finance.yahoo.com/quote/AMZN?p=AMZN\",\n",
    "        \"description\": \"Amazon.com, Inc. stock overview\"\n",
    "    }\n",
    "]\n",
    "\n",
    "# Define the CSV file name\n",
    "csv_file = 'URLs.csv'\n",
    "\n",
    "# Writing to CSV\n",
    "with open(csv_file, mode='w', newline='') as file:\n",
    "    writer = csv.DictWriter(file, fieldnames=[\"url\", \"description\"])\n",
    "    writer.writeheader()  # Writing the header\n",
    "    for entry in data:\n",
    "        writer.writerow(entry)  # Writing each row\n",
    "\n",
    "print(f\"Data successfully saved to {csv_file}\")"
   ]
  }
 ],
 "metadata": {
  "kernelspec": {
   "display_name": "Python 3 (ipykernel)",
   "language": "python",
   "name": "python3"
  },
  "language_info": {
   "codemirror_mode": {
    "name": "ipython",
    "version": 3
   },
   "file_extension": ".py",
   "mimetype": "text/x-python",
   "name": "python",
   "nbconvert_exporter": "python",
   "pygments_lexer": "ipython3",
   "version": "3.12.4"
  }
 },
 "nbformat": 4,
 "nbformat_minor": 5
}
