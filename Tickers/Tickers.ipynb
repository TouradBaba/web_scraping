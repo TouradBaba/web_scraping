{
 "cells": [
  {
   "cell_type": "code",
   "execution_count": 1,
   "id": "f6d6a3a2-1e00-475e-b4f5-6451902bfcf4",
   "metadata": {},
   "outputs": [
    {
     "name": "stdout",
     "output_type": "stream",
     "text": [
      "Data successfully saved to tickers.csv\n"
     ]
    }
   ],
   "source": [
    "import csv\n",
    "\n",
    "# List of tickers and their descriptions\n",
    "data = [\n",
    "    {\n",
    "        \"ticker\": \"AAPL\",\n",
    "        \"description\": \"Apple Inc. stock overview\"\n",
    "    },\n",
    "    {\n",
    "        \"ticker\": \"MSFT\",\n",
    "        \"description\": \"Microsoft Corporation stock overview\"\n",
    "    },\n",
    "    {\n",
    "        \"ticker\": \"AMZN\",\n",
    "        \"description\": \"Amazon.com, Inc. stock overview\"\n",
    "    }\n",
    "]\n",
    "\n",
    "# Define the CSV file name\n",
    "csv_file = 'tickers.csv'\n",
    "\n",
    "# Writing to CSV\n",
    "with open(csv_file, mode='w', newline='') as file:\n",
    "    writer = csv.DictWriter(file, fieldnames=[\"ticker\", \"description\"])\n",
    "    writer.writeheader()  # Writing the header\n",
    "    for entry in data:\n",
    "        writer.writerow(entry)  # Writing each row\n",
    "\n",
    "print(f\"Data successfully saved to {csv_file}\")"
   ]
  }
 ],
 "metadata": {
  "kernelspec": {
   "display_name": "Python 3 (ipykernel)",
   "language": "python",
   "name": "python3"
  },
  "language_info": {
   "codemirror_mode": {
    "name": "ipython",
    "version": 3
   },
   "file_extension": ".py",
   "mimetype": "text/x-python",
   "name": "python",
   "nbconvert_exporter": "python",
   "pygments_lexer": "ipython3",
   "version": "3.12.4"
  }
 },
 "nbformat": 4,
 "nbformat_minor": 5
}
